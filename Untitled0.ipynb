{
  "nbformat": 4,
  "nbformat_minor": 0,
  "metadata": {
    "colab": {
      "name": "Untitled0.ipynb",
      "provenance": [],
      "collapsed_sections": []
    },
    "kernelspec": {
      "name": "python3",
      "display_name": "Python 3"
    },
    "language_info": {
      "name": "python"
    }
  },
  "cells": [
    {
      "cell_type": "code",
      "metadata": {
        "colab": {
          "base_uri": "https://localhost:8080/"
        },
        "id": "3Udvr-ZVKGal",
        "outputId": "685b7aa7-f75f-4f64-a55e-cb0cd1a22fc1"
      },
      "source": [
        "principal = float(input('Enter principal amount:'))"
      ],
      "execution_count": 15,
      "outputs": [
        {
          "name": "stdout",
          "output_type": "stream",
          "text": [
            "Enter principal amount:200\n"
          ]
        }
      ]
    },
    {
      "cell_type": "code",
      "metadata": {
        "colab": {
          "base_uri": "https://localhost:8080/"
        },
        "id": "spl8uI55LOjP",
        "outputId": "8c764256-ba39-4387-f9b0-74d258c33ffa"
      },
      "source": [
        "rate = float(input('Enter rate of interest:'))"
      ],
      "execution_count": 16,
      "outputs": [
        {
          "name": "stdout",
          "output_type": "stream",
          "text": [
            "Enter rate of interest:8\n"
          ]
        }
      ]
    },
    {
      "cell_type": "code",
      "metadata": {
        "colab": {
          "base_uri": "https://localhost:8080/"
        },
        "id": "JscvKSSoL3FR",
        "outputId": "446fff95-7d5d-4656-85f2-3b17d406e973"
      },
      "source": [
        "time = float(input('Enter time in year:'))"
      ],
      "execution_count": 17,
      "outputs": [
        {
          "name": "stdout",
          "output_type": "stream",
          "text": [
            "Enter time in year:1\n"
          ]
        }
      ]
    },
    {
      "cell_type": "code",
      "metadata": {
        "id": "LIJs3Zb3MVsw"
      },
      "source": [
        "Simple_interest =(principal*rate*time)/100"
      ],
      "execution_count": 18,
      "outputs": []
    },
    {
      "cell_type": "code",
      "metadata": {
        "colab": {
          "base_uri": "https://localhost:8080/"
        },
        "id": "ir_9sBvwMvvx",
        "outputId": "d0f5ff1c-25bd-43ec-e2b3-0bc9dff90807"
      },
      "source": [
        "print(\"Simple_interest is:\",Simple_interest)"
      ],
      "execution_count": 19,
      "outputs": [
        {
          "output_type": "stream",
          "name": "stdout",
          "text": [
            "Simple_interest is: 16.0\n"
          ]
        }
      ]
    },
    {
      "cell_type": "code",
      "metadata": {
        "id": "E4D4RBfpND6w"
      },
      "source": [
        ""
      ],
      "execution_count": null,
      "outputs": []
    },
    {
      "cell_type": "markdown",
      "metadata": {
        "id": "wxSsXuscPuMH"
      },
      "source": [
        "# New Section"
      ]
    }
  ]
}